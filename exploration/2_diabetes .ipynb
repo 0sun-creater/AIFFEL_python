{
 "cells": [
  {
   "cell_type": "code",
   "execution_count": 2,
   "id": "8354025b",
   "metadata": {},
   "outputs": [],
   "source": [
    "#(1) 데이터 가져오기\n",
    "#sklearn.datasets의 load_diabetes에서 데이터를 가져와주세요.\n",
    "#diabetes의 data를 df_X에, target을 df_y에 저장해주세요.\n",
    "from sklearn.datasets import load_diabetes\n",
    "\n",
    "diabetes=load_diabetes()\n",
    "df_X = diabetes['data']\n",
    "df_y = diabetes['target']"
   ]
  },
  {
   "cell_type": "code",
   "execution_count": 12,
   "id": "96ddd5be",
   "metadata": {},
   "outputs": [
    {
     "name": "stdout",
     "output_type": "stream",
     "text": [
      "(442, 10)\n"
     ]
    }
   ],
   "source": [
    "#(2) 모델에 입력할 데이터 X 준비하기\n",
    "#df_X에 있는 값들을 numpy array로 변환해서 저장해주세요.\n",
    "import numpy as np\n",
    "df_X = np.array(df_X)\n",
    "print(df_X.shape)"
   ]
  },
  {
   "cell_type": "code",
   "execution_count": 11,
   "id": "684b5a4c",
   "metadata": {},
   "outputs": [
    {
     "name": "stdout",
     "output_type": "stream",
     "text": [
      "(442,)\n"
     ]
    }
   ],
   "source": [
    "#(3) 모델에 예측할 데이터 y 준비하기\n",
    "#df_y에 있는 값들을 numpy array로 변환해서 저장해주세요.\n",
    "df_y = np.array(df_y)\n",
    "print(df_y.shape)"
   ]
  },
  {
   "cell_type": "code",
   "execution_count": 8,
   "id": "e5ac5730",
   "metadata": {},
   "outputs": [],
   "source": [
    "#(4) train 데이터와 test 데이터로 분리하기\n",
    "#X와 y 데이터를 각각 train 데이터와 test 데이터로 분리해주세요.\n",
    "from sklearn.model_selection import train_test_split\n",
    "\n",
    "X_train, X_test, y_train, y_test = train_test_split(df_X, df_y, test_size=0.3, random_state=42)"
   ]
  },
  {
   "cell_type": "code",
   "execution_count": 13,
   "id": "7c8aaead",
   "metadata": {},
   "outputs": [],
   "source": [
    "#(5) 모델 준비하기\n",
    "#입력 데이터 개수에 맞는 가중치 W와 b를 준비해주세요.\n",
    "#모델 함수를 구현해주세요.\n",
    "W = np.random.rand(10)\n",
    "b = np.random.rand()"
   ]
  },
  {
   "cell_type": "code",
   "execution_count": 16,
   "id": "4fb46e81",
   "metadata": {},
   "outputs": [],
   "source": [
    "#(6) 손실함수 loss 정의하기\n",
    "#손실함수를 MSE 함수로 정의해주세요.\n",
    "\n",
    "def MSE(a, b):\n",
    "    mse = ((a - b) ** 2).mean() \n",
    "    return mse\n",
    "\n",
    "def loss(X, W, b, y):\n",
    "    predictions = model(X, W, b)\n",
    "    L = MSE(predictions, y)\n",
    "    return L\n",
    "\n",
    "\n",
    "losses = []"
   ]
  },
  {
   "cell_type": "code",
   "execution_count": 20,
   "id": "d3e9fdb0",
   "metadata": {},
   "outputs": [],
   "source": [
    "#(7) 기울기를 구하는 gradient 함수 구현하기\n",
    "#기울기를 계산하는 gradient 함수를 구현해주세요.\n",
    "def model(X, W, b):\n",
    "    predictions = 0\n",
    "    for i in range(len(W)):\n",
    "        predictions += X[:, i] * W[i]\n",
    "    predictions += b\n",
    "    return predictions\n",
    "\n",
    "def gradient(X, W, b, y):\n",
    "    N = len(W)\n",
    "    y_pred = model(X, W, b)\n",
    "    dW = 1/N * 2 * X.T.dot(y_pred - y)\n",
    "    db = 2 * (y_pred - y).mean()\n",
    "    return dW, db"
   ]
  },
  {
   "cell_type": "code",
   "execution_count": 31,
   "id": "525efb76",
   "metadata": {},
   "outputs": [],
   "source": [
    "#(8) 하이퍼 파라미터인 학습률 설정하기\n",
    "#학습률, learning rate 를 설정해주세요\n",
    "#만약 학습이 잘 되지 않는다면 learning rate 값을 한번 여러 가지로 설정하며 실험해 보세요.\n",
    "LEARNING_RATE = 0.005"
   ]
  },
  {
   "cell_type": "code",
   "execution_count": 32,
   "id": "62b9d3d3",
   "metadata": {},
   "outputs": [
    {
     "name": "stdout",
     "output_type": "stream",
     "text": [
      "Iteration 10 : Loss 4551.5661\n",
      "Iteration 20 : Loss 4470.6028\n",
      "Iteration 30 : Loss 4399.0032\n",
      "Iteration 40 : Loss 4335.2629\n",
      "Iteration 50 : Loss 4278.1423\n",
      "Iteration 60 : Loss 4226.6186\n",
      "Iteration 70 : Loss 4179.8466\n",
      "Iteration 80 : Loss 4137.1274\n",
      "Iteration 90 : Loss 4097.8814\n",
      "Iteration 100 : Loss 4061.6276\n",
      "Iteration 110 : Loss 4027.9655\n",
      "Iteration 120 : Loss 3996.5611\n",
      "Iteration 130 : Loss 3967.1349\n",
      "Iteration 140 : Loss 3939.4526\n",
      "Iteration 150 : Loss 3913.3168\n",
      "Iteration 160 : Loss 3888.5607\n",
      "Iteration 170 : Loss 3865.0429\n",
      "Iteration 180 : Loss 3842.6431\n",
      "Iteration 190 : Loss 3821.2579\n",
      "Iteration 200 : Loss 3800.7988\n",
      "Iteration 210 : Loss 3781.1892\n",
      "Iteration 220 : Loss 3762.3625\n",
      "Iteration 230 : Loss 3744.2604\n",
      "Iteration 240 : Loss 3726.8318\n",
      "Iteration 250 : Loss 3710.0316\n",
      "Iteration 260 : Loss 3693.8196\n",
      "Iteration 270 : Loss 3678.1599\n",
      "Iteration 280 : Loss 3663.0203\n",
      "Iteration 290 : Loss 3648.3717\n",
      "Iteration 300 : Loss 3634.1877\n",
      "Iteration 310 : Loss 3620.4442\n",
      "Iteration 320 : Loss 3607.1190\n",
      "Iteration 330 : Loss 3594.1919\n",
      "Iteration 340 : Loss 3581.6441\n",
      "Iteration 350 : Loss 3569.4582\n",
      "Iteration 360 : Loss 3557.6180\n",
      "Iteration 370 : Loss 3546.1086\n",
      "Iteration 380 : Loss 3534.9156\n",
      "Iteration 390 : Loss 3524.0261\n",
      "Iteration 400 : Loss 3513.4274\n",
      "Iteration 410 : Loss 3503.1080\n",
      "Iteration 420 : Loss 3493.0568\n",
      "Iteration 430 : Loss 3483.2635\n",
      "Iteration 440 : Loss 3473.7180\n",
      "Iteration 450 : Loss 3464.4112\n",
      "Iteration 460 : Loss 3455.3342\n",
      "Iteration 470 : Loss 3446.4786\n",
      "Iteration 480 : Loss 3437.8364\n",
      "Iteration 490 : Loss 3429.4001\n",
      "Iteration 500 : Loss 3421.1624\n",
      "Iteration 510 : Loss 3413.1164\n",
      "Iteration 520 : Loss 3405.2557\n",
      "Iteration 530 : Loss 3397.5740\n",
      "Iteration 540 : Loss 3390.0653\n",
      "Iteration 550 : Loss 3382.7239\n",
      "Iteration 560 : Loss 3375.5445\n",
      "Iteration 570 : Loss 3368.5218\n",
      "Iteration 580 : Loss 3361.6508\n",
      "Iteration 590 : Loss 3354.9269\n",
      "Iteration 600 : Loss 3348.3455\n",
      "Iteration 610 : Loss 3341.9022\n",
      "Iteration 620 : Loss 3335.5929\n",
      "Iteration 630 : Loss 3329.4136\n",
      "Iteration 640 : Loss 3323.3604\n",
      "Iteration 650 : Loss 3317.4298\n",
      "Iteration 660 : Loss 3311.6182\n",
      "Iteration 670 : Loss 3305.9221\n",
      "Iteration 680 : Loss 3300.3385\n",
      "Iteration 690 : Loss 3294.8641\n",
      "Iteration 700 : Loss 3289.4960\n",
      "Iteration 710 : Loss 3284.2313\n",
      "Iteration 720 : Loss 3279.0672\n",
      "Iteration 730 : Loss 3274.0011\n",
      "Iteration 740 : Loss 3269.0304\n",
      "Iteration 750 : Loss 3264.1527\n",
      "Iteration 760 : Loss 3259.3655\n",
      "Iteration 770 : Loss 3254.6667\n",
      "Iteration 780 : Loss 3250.0539\n",
      "Iteration 790 : Loss 3245.5251\n",
      "Iteration 800 : Loss 3241.0782\n",
      "Iteration 810 : Loss 3236.7112\n",
      "Iteration 820 : Loss 3232.4223\n",
      "Iteration 830 : Loss 3228.2095\n",
      "Iteration 840 : Loss 3224.0712\n",
      "Iteration 850 : Loss 3220.0055\n",
      "Iteration 860 : Loss 3216.0108\n",
      "Iteration 870 : Loss 3212.0855\n",
      "Iteration 880 : Loss 3208.2281\n",
      "Iteration 890 : Loss 3204.4369\n",
      "Iteration 900 : Loss 3200.7107\n",
      "Iteration 910 : Loss 3197.0479\n",
      "Iteration 920 : Loss 3193.4471\n",
      "Iteration 930 : Loss 3189.9072\n",
      "Iteration 940 : Loss 3186.4266\n",
      "Iteration 950 : Loss 3183.0043\n",
      "Iteration 960 : Loss 3179.6390\n",
      "Iteration 970 : Loss 3176.3294\n",
      "Iteration 980 : Loss 3173.0746\n",
      "Iteration 990 : Loss 3169.8732\n",
      "Iteration 1000 : Loss 3166.7244\n"
     ]
    },
    {
     "data": {
      "image/png": "[encoded data removed]",
      "text/plain": [
       "<Figure size 432x288 with 1 Axes>"
      ]
     },
     "metadata": {
      "needs_background": "light"
     },
     "output_type": "display_data"
    }
   ],
   "source": [
    "#(9) 모델 학습하기\n",
    "#정의된 손실함수와 기울기 함수로 모델을 학습해주세요.\n",
    "#loss값이 충분히 떨어질 때까지 학습을 진행해주세요.\n",
    "#입력하는 데이터인 X에 들어가는 특성 컬럼들을 몇 개 빼도 괜찮습니다. 다양한 데이터로 실험해 보세요.\n",
    "\n",
    "for i in range(1, 1001):\n",
    "    dW, db = gradient(X_train, W, b, y_train)\n",
    "    W -= LEARNING_RATE * dW\n",
    "    b -= LEARNING_RATE * db\n",
    "    L = loss(X_train, W, b, y_train)\n",
    "    losses.append(L)\n",
    "    if i % 10 == 0:\n",
    "        print('Iteration %d : Loss %0.4f' % (i, L))\n",
    "\n",
    "import matplotlib.pyplot as plt\n",
    "plt.plot(losses)\n",
    "plt.show()"
   ]
  },
  {
   "cell_type": "code",
   "execution_count": 35,
   "id": "39094925",
   "metadata": {},
   "outputs": [
    {
     "data": {
      "text/plain": [
       "2871.882089238878"
      ]
     },
     "execution_count": 35,
     "metadata": {},
     "output_type": "execute_result"
    }
   ],
   "source": [
    "#(10) test 데이터에 대한 성능 확인하기\n",
    "#test 데이터에 대한 성능을 확인해주세요.\n",
    "prediction = model(X_test, W, b)\n",
    "mse = loss(X_test, W, b, y_test)\n",
    "mse\n",
    "#MSE 손실함수값 3000 이하를 달성"
   ]
  },
  {
   "cell_type": "code",
   "execution_count": 34,
   "id": "cdb81048",
   "metadata": {},
   "outputs": [
    {
     "data": {
      "image/png": "[encoded data removed]",
      "text/plain": [
       "<Figure size 432x288 with 1 Axes>"
      ]
     },
     "metadata": {
      "needs_background": "light"
     },
     "output_type": "display_data"
    }
   ],
   "source": [
    "#(11) 정답 데이터와 예측한 데이터 시각화하기\n",
    "#x축에는 X 데이터의 첫 번째 컬럼을, y축에는 정답인 target 데이터를 넣어서 모델이 예측한 데이터를 시각화해 주세요.\n",
    "plt.scatter(X_test[:, 0], y_test, label=\"true\")\n",
    "plt.scatter(X_test[:, 0], prediction, label=\"pred\")\n",
    "plt.show()"
   ]
  },
  {
   "cell_type": "code",
   "execution_count": null,
   "id": "c47303fd",
   "metadata": {},
   "outputs": [],
   "source": []
  }
 ],
 "metadata": {
  "kernelspec": {
   "display_name": "Python 3 (ipykernel)",
   "language": "python",
   "name": "python3"
  },
  "language_info": {
   "codemirror_mode": {
    "name": "ipython",
    "version": 3
   },
   "file_extension": ".py",
   "mimetype": "text/x-python",
   "name": "python",
   "nbconvert_exporter": "python",
   "pygments_lexer": "ipython3",
   "version": "3.8.12"
  }
 },
 "nbformat": 4,
 "nbformat_minor": 5
}
